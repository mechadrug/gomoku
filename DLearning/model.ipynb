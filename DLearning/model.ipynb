{
 "cells": [
  {
   "cell_type": "code",
   "execution_count": 2,
   "metadata": {},
   "outputs": [],
   "source": [
    "from torch.utils.data import Dataset\n",
    "from PIL import Image\n",
    "import os\n",
    "class MyData(Dataset):\n",
    "\n",
    "    def __init__(self,root_dir,label_dir):\n",
    "        self.root_dir=root_dir\n",
    "        self.label_dir=label_dir\n",
    "        self.path=os.path.join(root_dir,label_dir)\n",
    "        self.img_path=os.listdir(self.path)\n",
    "\n",
    "    def __getitem__(self,idx):\n",
    "        img_name=self.img_path[idx]\n",
    "        img_item_path=os.path.join(self.root_dir,self.label_dir,img_name)\n",
    "        img=Image.open(img_item_path)\n",
    "        label=self.label_dir\n",
    "        return img,label\n",
    "    def __len__(self):\n",
    "        return len(self.img_path)\n",
    "#img_path=\"D:\\\\vscode\\\\codes\\\\DLearning\\\\bees-and-ants\\\\hymenoptera_data\\\\hymenoptera_data\\\\train\\\\ants\\\\0013035.jpg\"\n",
    "#dir_path=\"bees-and-ants/hymenoptera_data/hymenoptera_data/train/ants\"\n",
    "root_dir=\"bees-and-ants/hymenoptera_data/hymenoptera_data/train\"\n",
    "ants_label_dir=\"ants\"\n",
    "#path=os.path.join(root_dir,label_dir)\n",
    "#img =Image.open(img_path)\n",
    "#img.show()\n",
    "#数据集拼接直接+就行\n",
    "#img_path_list=os.listdir(dir_path)\n",
    "\n",
    "ants_dataset=MyData(root_dir,ants_label_dir)\n",
    "img,label=ants_dataset[3]\n",
    "img.show()"
   ]
  },
  {
   "cell_type": "code",
   "execution_count": 2,
   "metadata": {},
   "outputs": [],
   "source": [
    "from torch_tb_profiler import torch_profiler\n",
    "\n",
    "from torch.utils.tensorboard import SummaryWriter\n",
    "\n",
    "# writer=SummaryWriter(\"logs\")\n",
    "# writer.add_image()\n",
    "# writer.add_scalar()\n",
    "# writer.close()"
   ]
  }
 ],
 "metadata": {
  "kernelspec": {
   "display_name": "pytorch",
   "language": "python",
   "name": "python3"
  },
  "language_info": {
   "codemirror_mode": {
    "name": "ipython",
    "version": 3
   },
   "file_extension": ".py",
   "mimetype": "text/x-python",
   "name": "python",
   "nbconvert_exporter": "python",
   "pygments_lexer": "ipython3",
   "version": "3.12.3"
  }
 },
 "nbformat": 4,
 "nbformat_minor": 2
}
